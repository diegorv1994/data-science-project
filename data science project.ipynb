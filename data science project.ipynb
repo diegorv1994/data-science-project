{
 "cells": [
  {
   "cell_type": "code",
   "execution_count": 2,
   "metadata": {},
   "outputs": [],
   "source": [
    "import warnings\n",
    "warnings.filterwarnings('ignore')\n",
    "import pandas as pd\n",
    "import numpy as np\n",
    "import matplotlib.pyplot as plt\n",
    "import seaborn as sns"
   ]
  },
  {
   "cell_type": "code",
   "execution_count": 3,
   "metadata": {},
   "outputs": [],
   "source": [
    "data= pd.read_csv('churn.csv')"
   ]
  },
  {
   "cell_type": "code",
   "execution_count": 4,
   "metadata": {},
   "outputs": [
    {
     "data": {
      "text/html": [
       "<div>\n",
       "<style scoped>\n",
       "    .dataframe tbody tr th:only-of-type {\n",
       "        vertical-align: middle;\n",
       "    }\n",
       "\n",
       "    .dataframe tbody tr th {\n",
       "        vertical-align: top;\n",
       "    }\n",
       "\n",
       "    .dataframe thead th {\n",
       "        text-align: right;\n",
       "    }\n",
       "</style>\n",
       "<table border=\"1\" class=\"dataframe\">\n",
       "  <thead>\n",
       "    <tr style=\"text-align: right;\">\n",
       "      <th></th>\n",
       "      <th>Target Churn</th>\n",
       "      <th>Target Code</th>\n",
       "      <th>Current Bill Amt</th>\n",
       "      <th>Avg Calls</th>\n",
       "      <th>Avg Calls Weekdays</th>\n",
       "      <th>Account Age</th>\n",
       "      <th>Percent Increase MOM</th>\n",
       "      <th>Acct Plan Subtype</th>\n",
       "      <th>Complaint Code</th>\n",
       "      <th>Avg Days Delinquent</th>\n",
       "      <th>Current TechSupComplaints</th>\n",
       "      <th>Current Days OpenWorkOrders</th>\n",
       "      <th>Equipment Age</th>\n",
       "      <th>Condition of Current Handset</th>\n",
       "      <th>Avg Hours WorkOrderOpenned</th>\n",
       "    </tr>\n",
       "  </thead>\n",
       "  <tbody>\n",
       "    <tr>\n",
       "      <th>0</th>\n",
       "      <td>No Churn</td>\n",
       "      <td>0</td>\n",
       "      <td>14210</td>\n",
       "      <td>17950.000000</td>\n",
       "      <td>30297.0000</td>\n",
       "      <td>24</td>\n",
       "      <td>-0.334193</td>\n",
       "      <td>Gold</td>\n",
       "      <td>Billing Problem</td>\n",
       "      <td>6.2</td>\n",
       "      <td>0</td>\n",
       "      <td>0.0</td>\n",
       "      <td>8</td>\n",
       "      <td>1.0</td>\n",
       "      <td>0.0</td>\n",
       "    </tr>\n",
       "    <tr>\n",
       "      <th>1</th>\n",
       "      <td>Churn</td>\n",
       "      <td>1</td>\n",
       "      <td>14407</td>\n",
       "      <td>0.000000</td>\n",
       "      <td>0.0000</td>\n",
       "      <td>28</td>\n",
       "      <td>0.000000</td>\n",
       "      <td>Silver</td>\n",
       "      <td>Moving</td>\n",
       "      <td>1.0</td>\n",
       "      <td>0</td>\n",
       "      <td>0.0</td>\n",
       "      <td>17</td>\n",
       "      <td>1.0</td>\n",
       "      <td>0.0</td>\n",
       "    </tr>\n",
       "    <tr>\n",
       "      <th>2</th>\n",
       "      <td>Churn</td>\n",
       "      <td>1</td>\n",
       "      <td>12712</td>\n",
       "      <td>204.666667</td>\n",
       "      <td>10393.6667</td>\n",
       "      <td>23</td>\n",
       "      <td>0.000000</td>\n",
       "      <td>Gold</td>\n",
       "      <td>Billing Problem</td>\n",
       "      <td>17.6</td>\n",
       "      <td>0</td>\n",
       "      <td>0.0</td>\n",
       "      <td>23</td>\n",
       "      <td>1.0</td>\n",
       "      <td>0.0</td>\n",
       "    </tr>\n",
       "    <tr>\n",
       "      <th>3</th>\n",
       "      <td>No Churn</td>\n",
       "      <td>0</td>\n",
       "      <td>13807</td>\n",
       "      <td>15490.333300</td>\n",
       "      <td>41256.3333</td>\n",
       "      <td>39</td>\n",
       "      <td>0.148986</td>\n",
       "      <td>Silver</td>\n",
       "      <td>Billing Problem</td>\n",
       "      <td>0.0</td>\n",
       "      <td>0</td>\n",
       "      <td>0.0</td>\n",
       "      <td>17</td>\n",
       "      <td>1.0</td>\n",
       "      <td>0.0</td>\n",
       "    </tr>\n",
       "    <tr>\n",
       "      <th>4</th>\n",
       "      <td>No Churn</td>\n",
       "      <td>0</td>\n",
       "      <td>3805</td>\n",
       "      <td>5075.000000</td>\n",
       "      <td>12333.3333</td>\n",
       "      <td>23</td>\n",
       "      <td>-0.686047</td>\n",
       "      <td>Gold</td>\n",
       "      <td>Billing Problem</td>\n",
       "      <td>3.8</td>\n",
       "      <td>0</td>\n",
       "      <td>0.0</td>\n",
       "      <td>10</td>\n",
       "      <td>1.0</td>\n",
       "      <td>0.0</td>\n",
       "    </tr>\n",
       "  </tbody>\n",
       "</table>\n",
       "</div>"
      ],
      "text/plain": [
       "  Target Churn  Target Code  Current Bill Amt     Avg Calls  \\\n",
       "0     No Churn            0             14210  17950.000000   \n",
       "1        Churn            1             14407      0.000000   \n",
       "2        Churn            1             12712    204.666667   \n",
       "3     No Churn            0             13807  15490.333300   \n",
       "4     No Churn            0              3805   5075.000000   \n",
       "\n",
       "   Avg Calls Weekdays  Account Age  Percent Increase MOM Acct Plan Subtype  \\\n",
       "0          30297.0000           24             -0.334193              Gold   \n",
       "1              0.0000           28              0.000000            Silver   \n",
       "2          10393.6667           23              0.000000              Gold   \n",
       "3          41256.3333           39              0.148986            Silver   \n",
       "4          12333.3333           23             -0.686047              Gold   \n",
       "\n",
       "    Complaint Code  Avg Days Delinquent  Current TechSupComplaints  \\\n",
       "0  Billing Problem                  6.2                          0   \n",
       "1           Moving                  1.0                          0   \n",
       "2  Billing Problem                 17.6                          0   \n",
       "3  Billing Problem                  0.0                          0   \n",
       "4  Billing Problem                  3.8                          0   \n",
       "\n",
       "   Current Days OpenWorkOrders  Equipment Age  Condition of Current Handset  \\\n",
       "0                          0.0              8                           1.0   \n",
       "1                          0.0             17                           1.0   \n",
       "2                          0.0             23                           1.0   \n",
       "3                          0.0             17                           1.0   \n",
       "4                          0.0             10                           1.0   \n",
       "\n",
       "   Avg Hours WorkOrderOpenned  \n",
       "0                         0.0  \n",
       "1                         0.0  \n",
       "2                         0.0  \n",
       "3                         0.0  \n",
       "4                         0.0  "
      ]
     },
     "execution_count": 4,
     "metadata": {},
     "output_type": "execute_result"
    }
   ],
   "source": [
    "data.head()"
   ]
  },
  {
   "cell_type": "code",
   "execution_count": 5,
   "metadata": {},
   "outputs": [
    {
     "data": {
      "text/html": [
       "<div>\n",
       "<style scoped>\n",
       "    .dataframe tbody tr th:only-of-type {\n",
       "        vertical-align: middle;\n",
       "    }\n",
       "\n",
       "    .dataframe tbody tr th {\n",
       "        vertical-align: top;\n",
       "    }\n",
       "\n",
       "    .dataframe thead th {\n",
       "        text-align: right;\n",
       "    }\n",
       "</style>\n",
       "<table border=\"1\" class=\"dataframe\">\n",
       "  <thead>\n",
       "    <tr style=\"text-align: right;\">\n",
       "      <th></th>\n",
       "      <th>Target Churn</th>\n",
       "      <th>Target Code</th>\n",
       "      <th>Current Bill Amt</th>\n",
       "      <th>Avg Calls</th>\n",
       "      <th>Avg Calls Weekdays</th>\n",
       "      <th>Account Age</th>\n",
       "      <th>Percent Increase MOM</th>\n",
       "      <th>Acct Plan Subtype</th>\n",
       "      <th>Complaint Code</th>\n",
       "      <th>Avg Days Delinquent</th>\n",
       "      <th>Current TechSupComplaints</th>\n",
       "      <th>Current Days OpenWorkOrders</th>\n",
       "      <th>Equipment Age</th>\n",
       "      <th>Condition of Current Handset</th>\n",
       "      <th>Avg Hours WorkOrderOpenned</th>\n",
       "    </tr>\n",
       "  </thead>\n",
       "  <tbody>\n",
       "    <tr>\n",
       "      <th>4703</th>\n",
       "      <td>Churn</td>\n",
       "      <td>1</td>\n",
       "      <td>11231</td>\n",
       "      <td>2424.00000</td>\n",
       "      <td>12282.3333</td>\n",
       "      <td>18</td>\n",
       "      <td>0.045455</td>\n",
       "      <td>Gold</td>\n",
       "      <td>Call Quality</td>\n",
       "      <td>18.0</td>\n",
       "      <td>4</td>\n",
       "      <td>0.0</td>\n",
       "      <td>0</td>\n",
       "      <td>NaN</td>\n",
       "      <td>30.0</td>\n",
       "    </tr>\n",
       "    <tr>\n",
       "      <th>4704</th>\n",
       "      <td>Churn</td>\n",
       "      <td>1</td>\n",
       "      <td>9237</td>\n",
       "      <td>8831.33333</td>\n",
       "      <td>20083.6667</td>\n",
       "      <td>24</td>\n",
       "      <td>-0.160437</td>\n",
       "      <td>Silver</td>\n",
       "      <td>Billing Problem</td>\n",
       "      <td>16.2</td>\n",
       "      <td>5</td>\n",
       "      <td>0.0</td>\n",
       "      <td>0</td>\n",
       "      <td>NaN</td>\n",
       "      <td>0.0</td>\n",
       "    </tr>\n",
       "    <tr>\n",
       "      <th>4705</th>\n",
       "      <td>No Churn</td>\n",
       "      <td>0</td>\n",
       "      <td>18384</td>\n",
       "      <td>3219.00000</td>\n",
       "      <td>25610.0000</td>\n",
       "      <td>23</td>\n",
       "      <td>-0.584683</td>\n",
       "      <td>Silver</td>\n",
       "      <td>Call Quality</td>\n",
       "      <td>10.5</td>\n",
       "      <td>5</td>\n",
       "      <td>0.0</td>\n",
       "      <td>0</td>\n",
       "      <td>NaN</td>\n",
       "      <td>27.2</td>\n",
       "    </tr>\n",
       "    <tr>\n",
       "      <th>4706</th>\n",
       "      <td>Churn</td>\n",
       "      <td>1</td>\n",
       "      <td>44133</td>\n",
       "      <td>34627.00000</td>\n",
       "      <td>83341.3333</td>\n",
       "      <td>38</td>\n",
       "      <td>-0.373016</td>\n",
       "      <td>Silver</td>\n",
       "      <td>Call Quality</td>\n",
       "      <td>31.7</td>\n",
       "      <td>6</td>\n",
       "      <td>0.0</td>\n",
       "      <td>0</td>\n",
       "      <td>NaN</td>\n",
       "      <td>59.0</td>\n",
       "    </tr>\n",
       "    <tr>\n",
       "      <th>4707</th>\n",
       "      <td>No Churn</td>\n",
       "      <td>0</td>\n",
       "      <td>18728</td>\n",
       "      <td>20507.33330</td>\n",
       "      <td>68844.0000</td>\n",
       "      <td>21</td>\n",
       "      <td>0.711737</td>\n",
       "      <td>Silver</td>\n",
       "      <td>Billing Problem</td>\n",
       "      <td>29.6</td>\n",
       "      <td>9</td>\n",
       "      <td>0.0</td>\n",
       "      <td>0</td>\n",
       "      <td>NaN</td>\n",
       "      <td>0.0</td>\n",
       "    </tr>\n",
       "  </tbody>\n",
       "</table>\n",
       "</div>"
      ],
      "text/plain": [
       "     Target Churn  Target Code  Current Bill Amt    Avg Calls  \\\n",
       "4703        Churn            1             11231   2424.00000   \n",
       "4704        Churn            1              9237   8831.33333   \n",
       "4705     No Churn            0             18384   3219.00000   \n",
       "4706        Churn            1             44133  34627.00000   \n",
       "4707     No Churn            0             18728  20507.33330   \n",
       "\n",
       "      Avg Calls Weekdays  Account Age  Percent Increase MOM Acct Plan Subtype  \\\n",
       "4703          12282.3333           18              0.045455              Gold   \n",
       "4704          20083.6667           24             -0.160437            Silver   \n",
       "4705          25610.0000           23             -0.584683            Silver   \n",
       "4706          83341.3333           38             -0.373016            Silver   \n",
       "4707          68844.0000           21              0.711737            Silver   \n",
       "\n",
       "       Complaint Code  Avg Days Delinquent  Current TechSupComplaints  \\\n",
       "4703     Call Quality                 18.0                          4   \n",
       "4704  Billing Problem                 16.2                          5   \n",
       "4705     Call Quality                 10.5                          5   \n",
       "4706     Call Quality                 31.7                          6   \n",
       "4707  Billing Problem                 29.6                          9   \n",
       "\n",
       "      Current Days OpenWorkOrders  Equipment Age  \\\n",
       "4703                          0.0              0   \n",
       "4704                          0.0              0   \n",
       "4705                          0.0              0   \n",
       "4706                          0.0              0   \n",
       "4707                          0.0              0   \n",
       "\n",
       "      Condition of Current Handset  Avg Hours WorkOrderOpenned  \n",
       "4703                           NaN                        30.0  \n",
       "4704                           NaN                         0.0  \n",
       "4705                           NaN                        27.2  \n",
       "4706                           NaN                        59.0  \n",
       "4707                           NaN                         0.0  "
      ]
     },
     "execution_count": 5,
     "metadata": {},
     "output_type": "execute_result"
    }
   ],
   "source": [
    "data.tail()"
   ]
  },
  {
   "cell_type": "code",
   "execution_count": 6,
   "metadata": {},
   "outputs": [
    {
     "data": {
      "text/plain": [
       "4708"
      ]
     },
     "execution_count": 6,
     "metadata": {},
     "output_type": "execute_result"
    }
   ],
   "source": [
    "len(data)"
   ]
  },
  {
   "cell_type": "code",
   "execution_count": 7,
   "metadata": {},
   "outputs": [
    {
     "name": "stdout",
     "output_type": "stream",
     "text": [
      "<class 'pandas.core.frame.DataFrame'>\n",
      "RangeIndex: 4708 entries, 0 to 4707\n",
      "Data columns (total 15 columns):\n",
      " #   Column                        Non-Null Count  Dtype  \n",
      "---  ------                        --------------  -----  \n",
      " 0   Target Churn                  4708 non-null   object \n",
      " 1   Target Code                   4708 non-null   int64  \n",
      " 2   Current Bill Amt              4708 non-null   int64  \n",
      " 3   Avg Calls                     4708 non-null   float64\n",
      " 4   Avg Calls Weekdays            4708 non-null   float64\n",
      " 5   Account Age                   4708 non-null   int64  \n",
      " 6   Percent Increase MOM          4708 non-null   float64\n",
      " 7   Acct Plan Subtype             4708 non-null   object \n",
      " 8   Complaint Code                4701 non-null   object \n",
      " 9   Avg Days Delinquent           4708 non-null   float64\n",
      " 10  Current TechSupComplaints     4708 non-null   int64  \n",
      " 11  Current Days OpenWorkOrders   4708 non-null   float64\n",
      " 12  Equipment Age                 4708 non-null   int64  \n",
      " 13  Condition of Current Handset  4264 non-null   float64\n",
      " 14  Avg Hours WorkOrderOpenned    4708 non-null   float64\n",
      "dtypes: float64(7), int64(5), object(3)\n",
      "memory usage: 551.8+ KB\n"
     ]
    }
   ],
   "source": [
    "data.info()"
   ]
  },
  {
   "cell_type": "code",
   "execution_count": 28,
   "metadata": {},
   "outputs": [
    {
     "data": {
      "text/plain": [
       "Target_Churn                     object\n",
       "Target_Code                       int64\n",
       "Current_Bill_Amt                  int64\n",
       "Avg_Calls                       float64\n",
       "Avg_Calls_Weekdays              float64\n",
       "Account_Age                       int64\n",
       "Percent_Increase_MOM            float64\n",
       "Acct_Plan_Subtype                object\n",
       "Complaint_Code                   object\n",
       "Avg_Days_Delinquent             float64\n",
       "Current_TechSupComplaints         int64\n",
       "Current_Days_OpenWorkOrders     float64\n",
       "Equipment_Age                     int64\n",
       "Condition_of_Current_Handset     object\n",
       "Avg_Hours_WorkOrderOpenned      float64\n",
       "dtype: object"
      ]
     },
     "execution_count": 28,
     "metadata": {},
     "output_type": "execute_result"
    }
   ],
   "source": [
    "data.dtypes"
   ]
  },
  {
   "cell_type": "code",
   "execution_count": 49,
   "metadata": {},
   "outputs": [
    {
     "data": {
      "text/plain": [
       "Target_Churn                       2\n",
       "Target_Code                        2\n",
       "Current_Bill_Amt                3478\n",
       "Avg_Calls                       4385\n",
       "Avg_Calls_Weekdays              4560\n",
       "Account_Age                       26\n",
       "Percent_Increase_MOM            3904\n",
       "Acct_Plan_Subtype                  2\n",
       "Complaint_Code                     6\n",
       "Avg_Days_Delinquent              393\n",
       "Current_TechSupComplaints         11\n",
       "Current_Days_OpenWorkOrders       96\n",
       "Equipment_Age                     40\n",
       "Condition_of_Current_Handset       3\n",
       "Avg_Hours_WorkOrderOpenned        91\n",
       "dtype: int64"
      ]
     },
     "execution_count": 49,
     "metadata": {},
     "output_type": "execute_result"
    }
   ],
   "source": [
    "data.nunique()"
   ]
  },
  {
   "cell_type": "code",
   "execution_count": 8,
   "metadata": {},
   "outputs": [
    {
     "data": {
      "text/plain": [
       "(4708, 15)"
      ]
     },
     "execution_count": 8,
     "metadata": {},
     "output_type": "execute_result"
    }
   ],
   "source": [
    "data.shape"
   ]
  },
  {
   "cell_type": "code",
   "execution_count": 12,
   "metadata": {},
   "outputs": [],
   "source": [
    "data.columns=data.columns.str.replace(' ','_')"
   ]
  },
  {
   "cell_type": "code",
   "execution_count": 16,
   "metadata": {},
   "outputs": [
    {
     "data": {
      "text/html": [
       "<div>\n",
       "<style scoped>\n",
       "    .dataframe tbody tr th:only-of-type {\n",
       "        vertical-align: middle;\n",
       "    }\n",
       "\n",
       "    .dataframe tbody tr th {\n",
       "        vertical-align: top;\n",
       "    }\n",
       "\n",
       "    .dataframe thead th {\n",
       "        text-align: right;\n",
       "    }\n",
       "</style>\n",
       "<table border=\"1\" class=\"dataframe\">\n",
       "  <thead>\n",
       "    <tr style=\"text-align: right;\">\n",
       "      <th></th>\n",
       "      <th>count</th>\n",
       "      <th>mean</th>\n",
       "      <th>std</th>\n",
       "      <th>min</th>\n",
       "      <th>25%</th>\n",
       "      <th>50%</th>\n",
       "      <th>75%</th>\n",
       "      <th>max</th>\n",
       "    </tr>\n",
       "  </thead>\n",
       "  <tbody>\n",
       "    <tr>\n",
       "      <th>Target_Code</th>\n",
       "      <td>4708.0</td>\n",
       "      <td>0.485769</td>\n",
       "      <td>0.499851</td>\n",
       "      <td>0.0</td>\n",
       "      <td>0.000000</td>\n",
       "      <td>0.00000</td>\n",
       "      <td>1.000000</td>\n",
       "      <td>1.000</td>\n",
       "    </tr>\n",
       "    <tr>\n",
       "      <th>Current_Bill_Amt</th>\n",
       "      <td>4708.0</td>\n",
       "      <td>19828.815845</td>\n",
       "      <td>17204.510108</td>\n",
       "      <td>-690.0</td>\n",
       "      <td>12288.000000</td>\n",
       "      <td>15254.00000</td>\n",
       "      <td>22799.000000</td>\n",
       "      <td>325127.000</td>\n",
       "    </tr>\n",
       "    <tr>\n",
       "      <th>Avg_Calls</th>\n",
       "      <td>4708.0</td>\n",
       "      <td>9269.690314</td>\n",
       "      <td>10437.339850</td>\n",
       "      <td>0.0</td>\n",
       "      <td>2602.250002</td>\n",
       "      <td>6396.33333</td>\n",
       "      <td>12250.499975</td>\n",
       "      <td>181786.000</td>\n",
       "    </tr>\n",
       "    <tr>\n",
       "      <th>Avg_Calls_Weekdays</th>\n",
       "      <td>4708.0</td>\n",
       "      <td>38127.994973</td>\n",
       "      <td>39172.244943</td>\n",
       "      <td>0.0</td>\n",
       "      <td>13031.250025</td>\n",
       "      <td>26765.83335</td>\n",
       "      <td>50061.416675</td>\n",
       "      <td>374457.667</td>\n",
       "    </tr>\n",
       "    <tr>\n",
       "      <th>Account_Age</th>\n",
       "      <td>4708.0</td>\n",
       "      <td>26.079652</td>\n",
       "      <td>7.149933</td>\n",
       "      <td>15.0</td>\n",
       "      <td>20.000000</td>\n",
       "      <td>25.00000</td>\n",
       "      <td>32.000000</td>\n",
       "      <td>40.000</td>\n",
       "    </tr>\n",
       "    <tr>\n",
       "      <th>Percent_Increase_MOM</th>\n",
       "      <td>4708.0</td>\n",
       "      <td>-0.005127</td>\n",
       "      <td>4.481852</td>\n",
       "      <td>-1.0</td>\n",
       "      <td>-0.574084</td>\n",
       "      <td>-0.18528</td>\n",
       "      <td>0.121823</td>\n",
       "      <td>210.100</td>\n",
       "    </tr>\n",
       "    <tr>\n",
       "      <th>Avg_Days_Delinquent</th>\n",
       "      <td>4708.0</td>\n",
       "      <td>13.968564</td>\n",
       "      <td>10.789062</td>\n",
       "      <td>0.0</td>\n",
       "      <td>6.000000</td>\n",
       "      <td>12.40000</td>\n",
       "      <td>19.300000</td>\n",
       "      <td>126.000</td>\n",
       "    </tr>\n",
       "    <tr>\n",
       "      <th>Current_TechSupComplaints</th>\n",
       "      <td>4708.0</td>\n",
       "      <td>0.414826</td>\n",
       "      <td>0.954549</td>\n",
       "      <td>0.0</td>\n",
       "      <td>0.000000</td>\n",
       "      <td>0.00000</td>\n",
       "      <td>0.000000</td>\n",
       "      <td>11.000</td>\n",
       "    </tr>\n",
       "    <tr>\n",
       "      <th>Current_Days_OpenWorkOrders</th>\n",
       "      <td>4708.0</td>\n",
       "      <td>2.438828</td>\n",
       "      <td>20.197292</td>\n",
       "      <td>0.0</td>\n",
       "      <td>0.000000</td>\n",
       "      <td>0.00000</td>\n",
       "      <td>0.000000</td>\n",
       "      <td>368.000</td>\n",
       "    </tr>\n",
       "    <tr>\n",
       "      <th>Equipment_Age</th>\n",
       "      <td>4708.0</td>\n",
       "      <td>10.811810</td>\n",
       "      <td>8.710548</td>\n",
       "      <td>0.0</td>\n",
       "      <td>4.000000</td>\n",
       "      <td>9.00000</td>\n",
       "      <td>17.000000</td>\n",
       "      <td>39.000</td>\n",
       "    </tr>\n",
       "    <tr>\n",
       "      <th>Condition_of_Current_Handset</th>\n",
       "      <td>4264.0</td>\n",
       "      <td>1.019231</td>\n",
       "      <td>0.144021</td>\n",
       "      <td>1.0</td>\n",
       "      <td>1.000000</td>\n",
       "      <td>1.00000</td>\n",
       "      <td>1.000000</td>\n",
       "      <td>3.000</td>\n",
       "    </tr>\n",
       "    <tr>\n",
       "      <th>Avg_Hours_WorkOrderOpenned</th>\n",
       "      <td>4708.0</td>\n",
       "      <td>0.936501</td>\n",
       "      <td>8.926752</td>\n",
       "      <td>0.0</td>\n",
       "      <td>0.000000</td>\n",
       "      <td>0.00000</td>\n",
       "      <td>0.000000</td>\n",
       "      <td>297.500</td>\n",
       "    </tr>\n",
       "  </tbody>\n",
       "</table>\n",
       "</div>"
      ],
      "text/plain": [
       "                               count          mean           std    min  \\\n",
       "Target_Code                   4708.0      0.485769      0.499851    0.0   \n",
       "Current_Bill_Amt              4708.0  19828.815845  17204.510108 -690.0   \n",
       "Avg_Calls                     4708.0   9269.690314  10437.339850    0.0   \n",
       "Avg_Calls_Weekdays            4708.0  38127.994973  39172.244943    0.0   \n",
       "Account_Age                   4708.0     26.079652      7.149933   15.0   \n",
       "Percent_Increase_MOM          4708.0     -0.005127      4.481852   -1.0   \n",
       "Avg_Days_Delinquent           4708.0     13.968564     10.789062    0.0   \n",
       "Current_TechSupComplaints     4708.0      0.414826      0.954549    0.0   \n",
       "Current_Days_OpenWorkOrders   4708.0      2.438828     20.197292    0.0   \n",
       "Equipment_Age                 4708.0     10.811810      8.710548    0.0   \n",
       "Condition_of_Current_Handset  4264.0      1.019231      0.144021    1.0   \n",
       "Avg_Hours_WorkOrderOpenned    4708.0      0.936501      8.926752    0.0   \n",
       "\n",
       "                                       25%          50%           75%  \\\n",
       "Target_Code                       0.000000      0.00000      1.000000   \n",
       "Current_Bill_Amt              12288.000000  15254.00000  22799.000000   \n",
       "Avg_Calls                      2602.250002   6396.33333  12250.499975   \n",
       "Avg_Calls_Weekdays            13031.250025  26765.83335  50061.416675   \n",
       "Account_Age                      20.000000     25.00000     32.000000   \n",
       "Percent_Increase_MOM             -0.574084     -0.18528      0.121823   \n",
       "Avg_Days_Delinquent               6.000000     12.40000     19.300000   \n",
       "Current_TechSupComplaints         0.000000      0.00000      0.000000   \n",
       "Current_Days_OpenWorkOrders       0.000000      0.00000      0.000000   \n",
       "Equipment_Age                     4.000000      9.00000     17.000000   \n",
       "Condition_of_Current_Handset      1.000000      1.00000      1.000000   \n",
       "Avg_Hours_WorkOrderOpenned        0.000000      0.00000      0.000000   \n",
       "\n",
       "                                     max  \n",
       "Target_Code                        1.000  \n",
       "Current_Bill_Amt              325127.000  \n",
       "Avg_Calls                     181786.000  \n",
       "Avg_Calls_Weekdays            374457.667  \n",
       "Account_Age                       40.000  \n",
       "Percent_Increase_MOM             210.100  \n",
       "Avg_Days_Delinquent              126.000  \n",
       "Current_TechSupComplaints         11.000  \n",
       "Current_Days_OpenWorkOrders      368.000  \n",
       "Equipment_Age                     39.000  \n",
       "Condition_of_Current_Handset       3.000  \n",
       "Avg_Hours_WorkOrderOpenned       297.500  "
      ]
     },
     "execution_count": 16,
     "metadata": {},
     "output_type": "execute_result"
    }
   ],
   "source": [
    "data.describe().T"
   ]
  },
  {
   "cell_type": "code",
   "execution_count": 17,
   "metadata": {},
   "outputs": [
    {
     "data": {
      "text/html": [
       "<div>\n",
       "<style scoped>\n",
       "    .dataframe tbody tr th:only-of-type {\n",
       "        vertical-align: middle;\n",
       "    }\n",
       "\n",
       "    .dataframe tbody tr th {\n",
       "        vertical-align: top;\n",
       "    }\n",
       "\n",
       "    .dataframe thead th {\n",
       "        text-align: right;\n",
       "    }\n",
       "</style>\n",
       "<table border=\"1\" class=\"dataframe\">\n",
       "  <thead>\n",
       "    <tr style=\"text-align: right;\">\n",
       "      <th></th>\n",
       "      <th>count</th>\n",
       "      <th>unique</th>\n",
       "      <th>top</th>\n",
       "      <th>freq</th>\n",
       "    </tr>\n",
       "  </thead>\n",
       "  <tbody>\n",
       "    <tr>\n",
       "      <th>Target_Churn</th>\n",
       "      <td>4708</td>\n",
       "      <td>2</td>\n",
       "      <td>No Churn</td>\n",
       "      <td>2421</td>\n",
       "    </tr>\n",
       "    <tr>\n",
       "      <th>Acct_Plan_Subtype</th>\n",
       "      <td>4708</td>\n",
       "      <td>2</td>\n",
       "      <td>Silver</td>\n",
       "      <td>3914</td>\n",
       "    </tr>\n",
       "    <tr>\n",
       "      <th>Complaint_Code</th>\n",
       "      <td>4701</td>\n",
       "      <td>6</td>\n",
       "      <td>Billing Problem</td>\n",
       "      <td>2908</td>\n",
       "    </tr>\n",
       "  </tbody>\n",
       "</table>\n",
       "</div>"
      ],
      "text/plain": [
       "                  count unique              top  freq\n",
       "Target_Churn       4708      2         No Churn  2421\n",
       "Acct_Plan_Subtype  4708      2           Silver  3914\n",
       "Complaint_Code     4701      6  Billing Problem  2908"
      ]
     },
     "execution_count": 17,
     "metadata": {},
     "output_type": "execute_result"
    }
   ],
   "source": [
    "data.describe(include='object').T"
   ]
  },
  {
   "cell_type": "code",
   "execution_count": 17,
   "metadata": {},
   "outputs": [],
   "source": [
    "data['Target_Code']=data.Target_Code.astype('object')\n",
    "data['Condition_of_Current_Handset']=data.Condition_of_Current_Handset.astype('object')\n",
    "data['Current_TechSupComplaints']=data.Current_TechSupComplaints.astype('object')\n",
    "data['Target_Code']=data.Target_Code.astype('int64')"
   ]
  },
  {
   "cell_type": "code",
   "execution_count": 29,
   "metadata": {},
   "outputs": [
    {
     "data": {
      "text/html": [
       "<div>\n",
       "<style scoped>\n",
       "    .dataframe tbody tr th:only-of-type {\n",
       "        vertical-align: middle;\n",
       "    }\n",
       "\n",
       "    .dataframe tbody tr th {\n",
       "        vertical-align: top;\n",
       "    }\n",
       "\n",
       "    .dataframe thead th {\n",
       "        text-align: right;\n",
       "    }\n",
       "</style>\n",
       "<table border=\"1\" class=\"dataframe\">\n",
       "  <thead>\n",
       "    <tr style=\"text-align: right;\">\n",
       "      <th></th>\n",
       "      <th>count</th>\n",
       "      <th>unique</th>\n",
       "      <th>top</th>\n",
       "      <th>freq</th>\n",
       "    </tr>\n",
       "  </thead>\n",
       "  <tbody>\n",
       "    <tr>\n",
       "      <th>Target_Churn</th>\n",
       "      <td>4708</td>\n",
       "      <td>2</td>\n",
       "      <td>No Churn</td>\n",
       "      <td>2421</td>\n",
       "    </tr>\n",
       "    <tr>\n",
       "      <th>Acct_Plan_Subtype</th>\n",
       "      <td>4708</td>\n",
       "      <td>2</td>\n",
       "      <td>Silver</td>\n",
       "      <td>3914</td>\n",
       "    </tr>\n",
       "    <tr>\n",
       "      <th>Complaint_Code</th>\n",
       "      <td>4708</td>\n",
       "      <td>6</td>\n",
       "      <td>Billing Problem</td>\n",
       "      <td>2915</td>\n",
       "    </tr>\n",
       "    <tr>\n",
       "      <th>Condition_of_Current_Handset</th>\n",
       "      <td>4708</td>\n",
       "      <td>3</td>\n",
       "      <td>1</td>\n",
       "      <td>4630</td>\n",
       "    </tr>\n",
       "  </tbody>\n",
       "</table>\n",
       "</div>"
      ],
      "text/plain": [
       "                             count unique              top  freq\n",
       "Target_Churn                  4708      2         No Churn  2421\n",
       "Acct_Plan_Subtype             4708      2           Silver  3914\n",
       "Complaint_Code                4708      6  Billing Problem  2915\n",
       "Condition_of_Current_Handset  4708      3                1  4630"
      ]
     },
     "execution_count": 29,
     "metadata": {},
     "output_type": "execute_result"
    }
   ],
   "source": [
    "data.describe(include='object').T"
   ]
  },
  {
   "cell_type": "code",
   "execution_count": 9,
   "metadata": {},
   "outputs": [
    {
     "data": {
      "text/plain": [
       "Target Churn                      0\n",
       "Target Code                       0\n",
       "Current Bill Amt                  0\n",
       "Avg Calls                         0\n",
       "Avg Calls Weekdays                0\n",
       "Account Age                       0\n",
       "Percent Increase MOM              0\n",
       "Acct Plan Subtype                 0\n",
       "Complaint Code                    7\n",
       "Avg Days Delinquent               0\n",
       "Current TechSupComplaints         0\n",
       "Current Days OpenWorkOrders       0\n",
       "Equipment Age                     0\n",
       "Condition of Current Handset    444\n",
       "Avg Hours WorkOrderOpenned        0\n",
       "dtype: int64"
      ]
     },
     "execution_count": 9,
     "metadata": {},
     "output_type": "execute_result"
    }
   ],
   "source": [
    "data.isnull().sum()"
   ]
  },
  {
   "cell_type": "code",
   "execution_count": 18,
   "metadata": {},
   "outputs": [
    {
     "data": {
      "text/plain": [
       "Target_Churn                    0.00\n",
       "Target_Code                     0.00\n",
       "Current_Bill_Amt                0.00\n",
       "Avg_Calls                       0.00\n",
       "Avg_Calls_Weekdays              0.00\n",
       "Account_Age                     0.00\n",
       "Percent_Increase_MOM            0.00\n",
       "Acct_Plan_Subtype               0.00\n",
       "Complaint_Code                  0.15\n",
       "Avg_Days_Delinquent             0.00\n",
       "Current_TechSupComplaints       0.00\n",
       "Current_Days_OpenWorkOrders     0.00\n",
       "Equipment_Age                   0.00\n",
       "Condition_of_Current_Handset    9.43\n",
       "Avg_Hours_WorkOrderOpenned      0.00\n",
       "dtype: float64"
      ]
     },
     "execution_count": 18,
     "metadata": {},
     "output_type": "execute_result"
    }
   ],
   "source": [
    "round(data.isnull().sum()/len(data)*100,2)"
   ]
  },
  {
   "cell_type": "code",
   "execution_count": 19,
   "metadata": {},
   "outputs": [
    {
     "data": {
      "text/plain": [
       "Billing Problem         2908\n",
       "Call Quality            1070\n",
       "Moving                   511\n",
       "Check Account            195\n",
       "Inaccurate Sales Inf      13\n",
       "Pricing                    4\n",
       "Name: Complaint_Code, dtype: int64"
      ]
     },
     "execution_count": 19,
     "metadata": {},
     "output_type": "execute_result"
    }
   ],
   "source": [
    "data.Complaint_Code.value_counts()"
   ]
  },
  {
   "cell_type": "code",
   "execution_count": 23,
   "metadata": {},
   "outputs": [
    {
     "data": {
      "text/plain": [
       "1.0    4186\n",
       "2.0      74\n",
       "3.0       4\n",
       "Name: Condition_of_Current_Handset, dtype: int64"
      ]
     },
     "execution_count": 23,
     "metadata": {},
     "output_type": "execute_result"
    }
   ],
   "source": [
    "data.Condition_of_Current_Handset.value_counts()"
   ]
  },
  {
   "cell_type": "code",
   "execution_count": 35,
   "metadata": {},
   "outputs": [],
   "source": [
    "data.Complaint_Code=data.Complaint_Code.fillna(value='Billing Problem')\n",
    "data.Condition_of_Current_Handset=data.Condition_of_Current_Handset.fillna(value=1)\n",
    "data.Condition_of_Current_Handset=data.Condition_of_Current_Handset.astype('object')"
   ]
  },
  {
   "cell_type": "code",
   "execution_count": 36,
   "metadata": {},
   "outputs": [
    {
     "data": {
      "text/plain": [
       "No Churn    2421\n",
       "Churn       2287\n",
       "Name: Target_Churn, dtype: int64"
      ]
     },
     "execution_count": 36,
     "metadata": {},
     "output_type": "execute_result"
    }
   ],
   "source": [
    "data.Target_Churn.value_counts()"
   ]
  },
  {
   "cell_type": "code",
   "execution_count": 37,
   "metadata": {},
   "outputs": [
    {
     "data": {
      "text/plain": [
       "No Churn    51.42311\n",
       "Churn       48.57689\n",
       "Name: Target_Churn, dtype: float64"
      ]
     },
     "execution_count": 37,
     "metadata": {},
     "output_type": "execute_result"
    }
   ],
   "source": [
    "data.Target_Churn.value_counts(1)*100"
   ]
  },
  {
   "cell_type": "code",
   "execution_count": 38,
   "metadata": {},
   "outputs": [
    {
     "data": {
      "text/html": [
       "<div>\n",
       "<style scoped>\n",
       "    .dataframe tbody tr th:only-of-type {\n",
       "        vertical-align: middle;\n",
       "    }\n",
       "\n",
       "    .dataframe tbody tr th {\n",
       "        vertical-align: top;\n",
       "    }\n",
       "\n",
       "    .dataframe thead th {\n",
       "        text-align: right;\n",
       "    }\n",
       "</style>\n",
       "<table border=\"1\" class=\"dataframe\">\n",
       "  <thead>\n",
       "    <tr style=\"text-align: right;\">\n",
       "      <th>Target_Churn</th>\n",
       "      <th>Churn</th>\n",
       "      <th>No Churn</th>\n",
       "    </tr>\n",
       "  </thead>\n",
       "  <tbody>\n",
       "    <tr>\n",
       "      <th>Target_Code</th>\n",
       "      <td>1.000000</td>\n",
       "      <td>0.000000</td>\n",
       "    </tr>\n",
       "    <tr>\n",
       "      <th>Current_Bill_Amt</th>\n",
       "      <td>20182.709226</td>\n",
       "      <td>19494.510120</td>\n",
       "    </tr>\n",
       "    <tr>\n",
       "      <th>Avg_Calls</th>\n",
       "      <td>9348.878298</td>\n",
       "      <td>9194.885309</td>\n",
       "    </tr>\n",
       "    <tr>\n",
       "      <th>Avg_Calls_Weekdays</th>\n",
       "      <td>37524.030899</td>\n",
       "      <td>38698.530221</td>\n",
       "    </tr>\n",
       "    <tr>\n",
       "      <th>Account_Age</th>\n",
       "      <td>25.418452</td>\n",
       "      <td>26.704254</td>\n",
       "    </tr>\n",
       "    <tr>\n",
       "      <th>Percent_Increase_MOM</th>\n",
       "      <td>-0.281309</td>\n",
       "      <td>0.255769</td>\n",
       "    </tr>\n",
       "    <tr>\n",
       "      <th>Avg_Days_Delinquent</th>\n",
       "      <td>19.075339</td>\n",
       "      <td>9.144444</td>\n",
       "    </tr>\n",
       "    <tr>\n",
       "      <th>Current_TechSupComplaints</th>\n",
       "      <td>0.459117</td>\n",
       "      <td>0.372986</td>\n",
       "    </tr>\n",
       "    <tr>\n",
       "      <th>Current_Days_OpenWorkOrders</th>\n",
       "      <td>2.498907</td>\n",
       "      <td>2.382074</td>\n",
       "    </tr>\n",
       "    <tr>\n",
       "      <th>Equipment_Age</th>\n",
       "      <td>11.191517</td>\n",
       "      <td>10.453119</td>\n",
       "    </tr>\n",
       "    <tr>\n",
       "      <th>Avg_Hours_WorkOrderOpenned</th>\n",
       "      <td>0.960482</td>\n",
       "      <td>0.913846</td>\n",
       "    </tr>\n",
       "  </tbody>\n",
       "</table>\n",
       "</div>"
      ],
      "text/plain": [
       "Target_Churn                        Churn      No Churn\n",
       "Target_Code                      1.000000      0.000000\n",
       "Current_Bill_Amt             20182.709226  19494.510120\n",
       "Avg_Calls                     9348.878298   9194.885309\n",
       "Avg_Calls_Weekdays           37524.030899  38698.530221\n",
       "Account_Age                     25.418452     26.704254\n",
       "Percent_Increase_MOM            -0.281309      0.255769\n",
       "Avg_Days_Delinquent             19.075339      9.144444\n",
       "Current_TechSupComplaints        0.459117      0.372986\n",
       "Current_Days_OpenWorkOrders      2.498907      2.382074\n",
       "Equipment_Age                   11.191517     10.453119\n",
       "Avg_Hours_WorkOrderOpenned       0.960482      0.913846"
      ]
     },
     "execution_count": 38,
     "metadata": {},
     "output_type": "execute_result"
    }
   ],
   "source": [
    "summary_churn = data.groupby('Target_Churn')\n",
    "summary_churn.mean().T"
   ]
  },
  {
   "cell_type": "code",
   "execution_count": 45,
   "metadata": {},
   "outputs": [
    {
     "data": {
      "text/html": [
       "<div>\n",
       "<style scoped>\n",
       "    .dataframe tbody tr th:only-of-type {\n",
       "        vertical-align: middle;\n",
       "    }\n",
       "\n",
       "    .dataframe tbody tr th {\n",
       "        vertical-align: top;\n",
       "    }\n",
       "\n",
       "    .dataframe thead th {\n",
       "        text-align: right;\n",
       "    }\n",
       "</style>\n",
       "<table border=\"1\" class=\"dataframe\">\n",
       "  <thead>\n",
       "    <tr style=\"text-align: right;\">\n",
       "      <th></th>\n",
       "      <th>Target_Code</th>\n",
       "      <th>Current_Bill_Amt</th>\n",
       "      <th>Avg_Calls</th>\n",
       "      <th>Avg_Calls_Weekdays</th>\n",
       "      <th>Account_Age</th>\n",
       "      <th>Percent_Increase_MOM</th>\n",
       "      <th>Avg_Days_Delinquent</th>\n",
       "      <th>Current_TechSupComplaints</th>\n",
       "      <th>Current_Days_OpenWorkOrders</th>\n",
       "      <th>Equipment_Age</th>\n",
       "      <th>Avg_Hours_WorkOrderOpenned</th>\n",
       "    </tr>\n",
       "  </thead>\n",
       "  <tbody>\n",
       "    <tr>\n",
       "      <th>Target_Code</th>\n",
       "      <td>1.000</td>\n",
       "      <td>0.020</td>\n",
       "      <td>0.007</td>\n",
       "      <td>-0.015</td>\n",
       "      <td>-0.090</td>\n",
       "      <td>-0.060</td>\n",
       "      <td>0.460</td>\n",
       "      <td>0.045</td>\n",
       "      <td>0.003</td>\n",
       "      <td>0.042</td>\n",
       "      <td>0.003</td>\n",
       "    </tr>\n",
       "    <tr>\n",
       "      <th>Current_Bill_Amt</th>\n",
       "      <td>0.020</td>\n",
       "      <td>1.000</td>\n",
       "      <td>0.353</td>\n",
       "      <td>0.428</td>\n",
       "      <td>0.003</td>\n",
       "      <td>-0.016</td>\n",
       "      <td>0.024</td>\n",
       "      <td>0.077</td>\n",
       "      <td>0.076</td>\n",
       "      <td>-0.041</td>\n",
       "      <td>0.017</td>\n",
       "    </tr>\n",
       "    <tr>\n",
       "      <th>Avg_Calls</th>\n",
       "      <td>0.007</td>\n",
       "      <td>0.353</td>\n",
       "      <td>1.000</td>\n",
       "      <td>0.727</td>\n",
       "      <td>-0.024</td>\n",
       "      <td>-0.041</td>\n",
       "      <td>0.019</td>\n",
       "      <td>0.091</td>\n",
       "      <td>0.078</td>\n",
       "      <td>-0.099</td>\n",
       "      <td>0.013</td>\n",
       "    </tr>\n",
       "    <tr>\n",
       "      <th>Avg_Calls_Weekdays</th>\n",
       "      <td>-0.015</td>\n",
       "      <td>0.428</td>\n",
       "      <td>0.727</td>\n",
       "      <td>1.000</td>\n",
       "      <td>0.030</td>\n",
       "      <td>-0.044</td>\n",
       "      <td>0.017</td>\n",
       "      <td>0.114</td>\n",
       "      <td>0.065</td>\n",
       "      <td>-0.104</td>\n",
       "      <td>0.014</td>\n",
       "    </tr>\n",
       "    <tr>\n",
       "      <th>Account_Age</th>\n",
       "      <td>-0.090</td>\n",
       "      <td>0.003</td>\n",
       "      <td>-0.024</td>\n",
       "      <td>0.030</td>\n",
       "      <td>1.000</td>\n",
       "      <td>-0.004</td>\n",
       "      <td>-0.048</td>\n",
       "      <td>-0.020</td>\n",
       "      <td>-0.026</td>\n",
       "      <td>0.074</td>\n",
       "      <td>0.005</td>\n",
       "    </tr>\n",
       "    <tr>\n",
       "      <th>Percent_Increase_MOM</th>\n",
       "      <td>-0.060</td>\n",
       "      <td>-0.016</td>\n",
       "      <td>-0.041</td>\n",
       "      <td>-0.044</td>\n",
       "      <td>-0.004</td>\n",
       "      <td>1.000</td>\n",
       "      <td>0.050</td>\n",
       "      <td>0.015</td>\n",
       "      <td>-0.003</td>\n",
       "      <td>-0.004</td>\n",
       "      <td>-0.009</td>\n",
       "    </tr>\n",
       "    <tr>\n",
       "      <th>Avg_Days_Delinquent</th>\n",
       "      <td>0.460</td>\n",
       "      <td>0.024</td>\n",
       "      <td>0.019</td>\n",
       "      <td>0.017</td>\n",
       "      <td>-0.048</td>\n",
       "      <td>0.050</td>\n",
       "      <td>1.000</td>\n",
       "      <td>0.077</td>\n",
       "      <td>-0.002</td>\n",
       "      <td>0.014</td>\n",
       "      <td>0.000</td>\n",
       "    </tr>\n",
       "    <tr>\n",
       "      <th>Current_TechSupComplaints</th>\n",
       "      <td>0.045</td>\n",
       "      <td>0.077</td>\n",
       "      <td>0.091</td>\n",
       "      <td>0.114</td>\n",
       "      <td>-0.020</td>\n",
       "      <td>0.015</td>\n",
       "      <td>0.077</td>\n",
       "      <td>1.000</td>\n",
       "      <td>0.025</td>\n",
       "      <td>-0.056</td>\n",
       "      <td>0.227</td>\n",
       "    </tr>\n",
       "    <tr>\n",
       "      <th>Current_Days_OpenWorkOrders</th>\n",
       "      <td>0.003</td>\n",
       "      <td>0.076</td>\n",
       "      <td>0.078</td>\n",
       "      <td>0.065</td>\n",
       "      <td>-0.026</td>\n",
       "      <td>-0.003</td>\n",
       "      <td>-0.002</td>\n",
       "      <td>0.025</td>\n",
       "      <td>1.000</td>\n",
       "      <td>-0.038</td>\n",
       "      <td>0.029</td>\n",
       "    </tr>\n",
       "    <tr>\n",
       "      <th>Equipment_Age</th>\n",
       "      <td>0.042</td>\n",
       "      <td>-0.041</td>\n",
       "      <td>-0.099</td>\n",
       "      <td>-0.104</td>\n",
       "      <td>0.074</td>\n",
       "      <td>-0.004</td>\n",
       "      <td>0.014</td>\n",
       "      <td>-0.056</td>\n",
       "      <td>-0.038</td>\n",
       "      <td>1.000</td>\n",
       "      <td>-0.014</td>\n",
       "    </tr>\n",
       "    <tr>\n",
       "      <th>Avg_Hours_WorkOrderOpenned</th>\n",
       "      <td>0.003</td>\n",
       "      <td>0.017</td>\n",
       "      <td>0.013</td>\n",
       "      <td>0.014</td>\n",
       "      <td>0.005</td>\n",
       "      <td>-0.009</td>\n",
       "      <td>0.000</td>\n",
       "      <td>0.227</td>\n",
       "      <td>0.029</td>\n",
       "      <td>-0.014</td>\n",
       "      <td>1.000</td>\n",
       "    </tr>\n",
       "  </tbody>\n",
       "</table>\n",
       "</div>"
      ],
      "text/plain": [
       "                             Target_Code  Current_Bill_Amt  Avg_Calls  \\\n",
       "Target_Code                        1.000             0.020      0.007   \n",
       "Current_Bill_Amt                   0.020             1.000      0.353   \n",
       "Avg_Calls                          0.007             0.353      1.000   \n",
       "Avg_Calls_Weekdays                -0.015             0.428      0.727   \n",
       "Account_Age                       -0.090             0.003     -0.024   \n",
       "Percent_Increase_MOM              -0.060            -0.016     -0.041   \n",
       "Avg_Days_Delinquent                0.460             0.024      0.019   \n",
       "Current_TechSupComplaints          0.045             0.077      0.091   \n",
       "Current_Days_OpenWorkOrders        0.003             0.076      0.078   \n",
       "Equipment_Age                      0.042            -0.041     -0.099   \n",
       "Avg_Hours_WorkOrderOpenned         0.003             0.017      0.013   \n",
       "\n",
       "                             Avg_Calls_Weekdays  Account_Age  \\\n",
       "Target_Code                              -0.015       -0.090   \n",
       "Current_Bill_Amt                          0.428        0.003   \n",
       "Avg_Calls                                 0.727       -0.024   \n",
       "Avg_Calls_Weekdays                        1.000        0.030   \n",
       "Account_Age                               0.030        1.000   \n",
       "Percent_Increase_MOM                     -0.044       -0.004   \n",
       "Avg_Days_Delinquent                       0.017       -0.048   \n",
       "Current_TechSupComplaints                 0.114       -0.020   \n",
       "Current_Days_OpenWorkOrders               0.065       -0.026   \n",
       "Equipment_Age                            -0.104        0.074   \n",
       "Avg_Hours_WorkOrderOpenned                0.014        0.005   \n",
       "\n",
       "                             Percent_Increase_MOM  Avg_Days_Delinquent  \\\n",
       "Target_Code                                -0.060                0.460   \n",
       "Current_Bill_Amt                           -0.016                0.024   \n",
       "Avg_Calls                                  -0.041                0.019   \n",
       "Avg_Calls_Weekdays                         -0.044                0.017   \n",
       "Account_Age                                -0.004               -0.048   \n",
       "Percent_Increase_MOM                        1.000                0.050   \n",
       "Avg_Days_Delinquent                         0.050                1.000   \n",
       "Current_TechSupComplaints                   0.015                0.077   \n",
       "Current_Days_OpenWorkOrders                -0.003               -0.002   \n",
       "Equipment_Age                              -0.004                0.014   \n",
       "Avg_Hours_WorkOrderOpenned                 -0.009                0.000   \n",
       "\n",
       "                             Current_TechSupComplaints  \\\n",
       "Target_Code                                      0.045   \n",
       "Current_Bill_Amt                                 0.077   \n",
       "Avg_Calls                                        0.091   \n",
       "Avg_Calls_Weekdays                               0.114   \n",
       "Account_Age                                     -0.020   \n",
       "Percent_Increase_MOM                             0.015   \n",
       "Avg_Days_Delinquent                              0.077   \n",
       "Current_TechSupComplaints                        1.000   \n",
       "Current_Days_OpenWorkOrders                      0.025   \n",
       "Equipment_Age                                   -0.056   \n",
       "Avg_Hours_WorkOrderOpenned                       0.227   \n",
       "\n",
       "                             Current_Days_OpenWorkOrders  Equipment_Age  \\\n",
       "Target_Code                                        0.003          0.042   \n",
       "Current_Bill_Amt                                   0.076         -0.041   \n",
       "Avg_Calls                                          0.078         -0.099   \n",
       "Avg_Calls_Weekdays                                 0.065         -0.104   \n",
       "Account_Age                                       -0.026          0.074   \n",
       "Percent_Increase_MOM                              -0.003         -0.004   \n",
       "Avg_Days_Delinquent                               -0.002          0.014   \n",
       "Current_TechSupComplaints                          0.025         -0.056   \n",
       "Current_Days_OpenWorkOrders                        1.000         -0.038   \n",
       "Equipment_Age                                     -0.038          1.000   \n",
       "Avg_Hours_WorkOrderOpenned                         0.029         -0.014   \n",
       "\n",
       "                             Avg_Hours_WorkOrderOpenned  \n",
       "Target_Code                                       0.003  \n",
       "Current_Bill_Amt                                  0.017  \n",
       "Avg_Calls                                         0.013  \n",
       "Avg_Calls_Weekdays                                0.014  \n",
       "Account_Age                                       0.005  \n",
       "Percent_Increase_MOM                             -0.009  \n",
       "Avg_Days_Delinquent                               0.000  \n",
       "Current_TechSupComplaints                         0.227  \n",
       "Current_Days_OpenWorkOrders                       0.029  \n",
       "Equipment_Age                                    -0.014  \n",
       "Avg_Hours_WorkOrderOpenned                        1.000  "
      ]
     },
     "execution_count": 45,
     "metadata": {},
     "output_type": "execute_result"
    }
   ],
   "source": [
    "round(data.corr(),3)"
   ]
  },
  {
   "cell_type": "code",
   "execution_count": 50,
   "metadata": {},
   "outputs": [
    {
     "data": {
      "image/png": "[encoded data removed]",
      "text/plain": [
       "<Figure size 1080x576 with 2 Axes>"
      ]
     },
     "metadata": {
      "needs_background": "light"
     },
     "output_type": "display_data"
    }
   ],
   "source": [
    "corr = round(data.corr(),3)\n",
    "plt.figure(figsize=(15,8))\n",
    "sns.heatmap(corr, \n",
    "            xticklabels=corr.columns.values,\n",
    "            yticklabels=corr.columns.values,annot=True);"
   ]
  },
  {
   "cell_type": "code",
   "execution_count": 52,
   "metadata": {},
   "outputs": [
    {
     "data": {
      "image/png": "[encoded data removed]",
      "text/plain": [
       "<Figure size 1080x432 with 3 Axes>"
      ]
     },
     "metadata": {
      "needs_background": "light"
     },
     "output_type": "display_data"
    }
   ],
   "source": [
    "f, axes = plt.subplots(ncols=3, figsize=(15, 6))\n",
    "\n",
    "sns.distplot(data.Avg_Calls_Weekdays, kde=True,  color=\"darkgreen\", ax=axes[0]).set_title('Avg_Calls_Weekdays')\n",
    "axes[0].set_ylabel('No of Customers')\n",
    "\n",
    "\n",
    "sns.distplot(data.Avg_Calls, kde=True,color=\"darkblue\", ax=axes[1]).set_title('Avg_Calls')\n",
    "axes[1].set_ylabel('No of Customers')\n",
    "\n",
    "\n",
    "sns.distplot(data.Current_Bill_Amt, kde=True, color=\"maroon\", ax=axes[2]).set_title('Current_Bill_Amt')\n",
    "axes[2].set_ylabel('No of Customers');"
   ]
  },
  {
   "cell_type": "code",
   "execution_count": 47,
   "metadata": {},
   "outputs": [
    {
     "data": {
      "text/plain": [
       "No Churn    2421\n",
       "Churn       2287\n",
       "Name: Target_Churn, dtype: int64"
      ]
     },
     "execution_count": 47,
     "metadata": {},
     "output_type": "execute_result"
    }
   ],
   "source": [
    "data.Target_Churn.value_counts()"
   ]
  },
  {
   "cell_type": "code",
   "execution_count": 32,
   "metadata": {},
   "outputs": [
    {
     "data": {
      "image/png": "[encoded data removed]",
      "text/plain": [
       "<Figure size 1224x720 with 1 Axes>"
      ]
     },
     "metadata": {
      "needs_background": "light"
     },
     "output_type": "display_data"
    }
   ],
   "source": [
    "plt.figure(figsize=(17,10))\n",
    "p=sns.countplot(y=\"Complaint_Code\", hue='Target_Churn', data=data,palette=\"Set2\")\n",
    "legend = p.get_legend()\n",
    "legend_txt = legend.texts\n",
    "legend_txt[0].set_text(\"No Churn\")\n",
    "legend_txt[1].set_text(\"Churn\")\n",
    "p.set_title('Customer Complaint Code Distribution');"
   ]
  },
  {
   "cell_type": "code",
   "execution_count": 33,
   "metadata": {},
   "outputs": [
    {
     "data": {
      "image/png": "[encoded data removed]",
      "text/plain": [
       "<Figure size 1080x288 with 1 Axes>"
      ]
     },
     "metadata": {
      "needs_background": "light"
     },
     "output_type": "display_data"
    }
   ],
   "source": [
    "plt.figure(figsize=(15,4))\n",
    "p=sns.countplot(y=\"Acct_Plan_Subtype\", hue='Target_Churn', data=data,palette=\"Set2\")\n",
    "legend = p.get_legend()\n",
    "legend_txt = legend.texts\n",
    "legend_txt[0].set_text(\"No Churn\")\n",
    "legend_txt[1].set_text(\"Churn\")\n",
    "p.set_title('Customer Acct_Plan_Subtype Distribution');"
   ]
  },
  {
   "cell_type": "code",
   "execution_count": 34,
   "metadata": {},
   "outputs": [
    {
     "data": {
      "image/png": "[encoded data removed]",
      "text/plain": [
       "<Figure size 1080x288 with 1 Axes>"
      ]
     },
     "metadata": {
      "needs_background": "light"
     },
     "output_type": "display_data"
    }
   ],
   "source": [
    "plt.figure(figsize=(15,4))\n",
    "p=sns.countplot(y=\"Current_TechSupComplaints\", hue='Target_Churn', data=data,palette=\"Set2\")\n",
    "legend = p.get_legend()\n",
    "legend_txt = legend.texts\n",
    "legend_txt[0].set_text(\"No Churn\")\n",
    "legend_txt[1].set_text(\"Churn\")\n",
    "p.set_title('Customer Current_TechSupComplaints Distribution');"
   ]
  },
  {
   "cell_type": "code",
   "execution_count": 35,
   "metadata": {},
   "outputs": [
    {
     "data": {
      "image/png": "[encoded data removed]",
      "text/plain": [
       "<Figure size 1080x288 with 1 Axes>"
      ]
     },
     "metadata": {
      "needs_background": "light"
     },
     "output_type": "display_data"
    }
   ],
   "source": [
    "plt.figure(figsize=(15,4))\n",
    "ax=sns.kdeplot(data.loc[(data['Target_Code'] == 0),'Avg_Days_Delinquent'] , color=sns.color_palette(\"Set2\")[0],shade=True,label='no churn')\n",
    "ax=sns.kdeplot(data.loc[(data['Target_Code'] == 1),'Avg_Days_Delinquent'] , color=sns.color_palette(\"Set2\")[1],shade=True, label='churn')\n",
    "ax.set(xlabel='Average No of Days Deliquent/Defaluted from paying', ylabel='Frequency')\n",
    "plt.title('Average No of Days Deliquent/Defaluted from paying - churn vs no churn');"
   ]
  },
  {
   "cell_type": "code",
   "execution_count": 36,
   "metadata": {},
   "outputs": [
    {
     "data": {
      "image/png": "[encoded data removed]",
      "text/plain": [
       "<Figure size 1080x288 with 1 Axes>"
      ]
     },
     "metadata": {
      "needs_background": "light"
     },
     "output_type": "display_data"
    }
   ],
   "source": [
    "plt.figure(figsize=(15,4))\n",
    "ax=sns.kdeplot(data.loc[(data['Target_Code'] == 0),'Account_Age'] , color=sns.color_palette(\"Set2\")[0],shade=True,label='no churn')\n",
    "ax=sns.kdeplot(data.loc[(data['Target_Code'] == 1),'Account_Age'] , color=sns.color_palette(\"Set2\")[1],shade=True, label='churn')\n",
    "ax.set(xlabel='Account_Age', ylabel='Frequency')\n",
    "plt.title('Account_Age - churn vs no churn');"
   ]
  },
  {
   "cell_type": "code",
   "execution_count": 37,
   "metadata": {},
   "outputs": [
    {
     "data": {
      "image/png": "[encoded data removed]",
      "text/plain": [
       "<Figure size 1080x288 with 1 Axes>"
      ]
     },
     "metadata": {
      "needs_background": "light"
     },
     "output_type": "display_data"
    }
   ],
   "source": [
    "plt.figure(figsize=(15,4))\n",
    "ax=sns.kdeplot(data.loc[(data['Target_Code'] == 0),'Percent_Increase_MOM'] , color=sns.color_palette(\"Set2\")[0],shade=True,label='no churn')\n",
    "ax=sns.kdeplot(data.loc[(data['Target_Code'] == 1),'Percent_Increase_MOM'] , color=sns.color_palette(\"Set2\")[1],shade=True, label='churn')\n",
    "ax.set(xlabel='Percent_Increase_MOM', ylabel='Frequency')\n",
    "plt.title('Percent_Increase_MOM- churn vs no churn');"
   ]
  },
  {
   "cell_type": "code",
   "execution_count": 38,
   "metadata": {},
   "outputs": [
    {
     "data": {
      "image/png": "[encoded data removed]",
      "text/plain": [
       "<Figure size 1080x288 with 1 Axes>"
      ]
     },
     "metadata": {
      "needs_background": "light"
     },
     "output_type": "display_data"
    }
   ],
   "source": [
    "plt.figure(figsize=(15,4))\n",
    "ax=sns.kdeplot(data.loc[(data['Target_Code'] == 1),'Percent_Increase_MOM'] ,color=sns.color_palette(\"Set2\")[1],shade=True, label='churn')\n",
    "ax.set(xlabel='Percent_Increase_MOM', ylabel='Frequency')\n",
    "plt.title('Percent_Increase_MOM- churn');"
   ]
  },
  {
   "cell_type": "code",
   "execution_count": 39,
   "metadata": {},
   "outputs": [
    {
     "data": {
      "image/png": "[encoded data removed]",
      "text/plain": [
       "<Figure size 1080x288 with 1 Axes>"
      ]
     },
     "metadata": {
      "needs_background": "light"
     },
     "output_type": "display_data"
    }
   ],
   "source": [
    "plt.figure(figsize=(15,4))\n",
    "ax=sns.kdeplot(data.loc[(data['Target_Code'] == 0),'Percent_Increase_MOM'] ,color=sns.color_palette(\"Set2\")[0],shade=True, label='no churn')\n",
    "ax.set(xlabel='Percent_Increase_MOM', ylabel='Frequency')\n",
    "plt.title('Percent_Increase_MOM- no churn');"
   ]
  },
  {
   "cell_type": "markdown",
   "metadata": {},
   "source": [
    "## Variable selection  with Random Forest"
   ]
  },
  {
   "cell_type": "code",
   "execution_count": 42,
   "metadata": {},
   "outputs": [],
   "source": [
    "from sklearn.ensemble import RandomForestClassifier\n",
    "from sklearn.model_selection import train_test_split"
   ]
  },
  {
   "cell_type": "code",
   "execution_count": 43,
   "metadata": {},
   "outputs": [
    {
     "data": {
      "text/plain": [
       "Silver    3914\n",
       "Gold       794\n",
       "Name: Acct_Plan_Subtype, dtype: int64"
      ]
     },
     "execution_count": 43,
     "metadata": {},
     "output_type": "execute_result"
    }
   ],
   "source": [
    "data[\"Acct_Plan_Subtype\"].value_counts()"
   ]
  },
  {
   "cell_type": "code",
   "execution_count": 45,
   "metadata": {},
   "outputs": [
    {
     "data": {
      "text/plain": [
       "Billing Problem         2915\n",
       "Call Quality            1070\n",
       "Moving                   511\n",
       "Check Account            195\n",
       "Inaccurate Sales Inf      13\n",
       "Pricing                    4\n",
       "Name: Complaint_Code, dtype: int64"
      ]
     },
     "execution_count": 45,
     "metadata": {},
     "output_type": "execute_result"
    }
   ],
   "source": [
    "data[\"Complaint_Code\"].value_counts()"
   ]
  },
  {
   "cell_type": "code",
   "execution_count": 46,
   "metadata": {},
   "outputs": [],
   "source": [
    "data.Acct_Plan_Subtype = data.Acct_Plan_Subtype.astype('category').cat.codes\n",
    "data.Complaint_Code = data.Complaint_Code.astype('category').cat.codes"
   ]
  },
  {
   "cell_type": "code",
   "execution_count": 47,
   "metadata": {},
   "outputs": [
    {
     "data": {
      "text/plain": [
       "1    3914\n",
       "0     794\n",
       "Name: Acct_Plan_Subtype, dtype: int64"
      ]
     },
     "execution_count": 47,
     "metadata": {},
     "output_type": "execute_result"
    }
   ],
   "source": [
    "data.Acct_Plan_Subtype.value_counts()"
   ]
  },
  {
   "cell_type": "code",
   "execution_count": 48,
   "metadata": {},
   "outputs": [
    {
     "data": {
      "text/plain": [
       "0    2915\n",
       "1    1070\n",
       "4     511\n",
       "2     195\n",
       "3      13\n",
       "5       4\n",
       "Name: Complaint_Code, dtype: int64"
      ]
     },
     "execution_count": 48,
     "metadata": {},
     "output_type": "execute_result"
    }
   ],
   "source": [
    "data.Complaint_Code.value_counts()"
   ]
  },
  {
   "cell_type": "code",
   "execution_count": 49,
   "metadata": {},
   "outputs": [
    {
     "data": {
      "text/html": [
       "<div>\n",
       "<style scoped>\n",
       "    .dataframe tbody tr th:only-of-type {\n",
       "        vertical-align: middle;\n",
       "    }\n",
       "\n",
       "    .dataframe tbody tr th {\n",
       "        vertical-align: top;\n",
       "    }\n",
       "\n",
       "    .dataframe thead th {\n",
       "        text-align: right;\n",
       "    }\n",
       "</style>\n",
       "<table border=\"1\" class=\"dataframe\">\n",
       "  <thead>\n",
       "    <tr style=\"text-align: right;\">\n",
       "      <th></th>\n",
       "      <th>Acct_Plan_Subtype</th>\n",
       "      <th>Complaint_Code</th>\n",
       "    </tr>\n",
       "  </thead>\n",
       "  <tbody>\n",
       "    <tr>\n",
       "      <td>0</td>\n",
       "      <td>0</td>\n",
       "      <td>0</td>\n",
       "    </tr>\n",
       "    <tr>\n",
       "      <td>1</td>\n",
       "      <td>1</td>\n",
       "      <td>4</td>\n",
       "    </tr>\n",
       "    <tr>\n",
       "      <td>2</td>\n",
       "      <td>0</td>\n",
       "      <td>0</td>\n",
       "    </tr>\n",
       "    <tr>\n",
       "      <td>3</td>\n",
       "      <td>1</td>\n",
       "      <td>0</td>\n",
       "    </tr>\n",
       "    <tr>\n",
       "      <td>4</td>\n",
       "      <td>0</td>\n",
       "      <td>0</td>\n",
       "    </tr>\n",
       "  </tbody>\n",
       "</table>\n",
       "</div>"
      ],
      "text/plain": [
       "   Acct_Plan_Subtype  Complaint_Code\n",
       "0                  0               0\n",
       "1                  1               4\n",
       "2                  0               0\n",
       "3                  1               0\n",
       "4                  0               0"
      ]
     },
     "execution_count": 49,
     "metadata": {},
     "output_type": "execute_result"
    }
   ],
   "source": [
    "data[[\"Acct_Plan_Subtype\",\"Complaint_Code\"]].head()"
   ]
  },
  {
   "cell_type": "code",
   "execution_count": 50,
   "metadata": {},
   "outputs": [
    {
     "data": {
      "text/html": [
       "<div>\n",
       "<style scoped>\n",
       "    .dataframe tbody tr th:only-of-type {\n",
       "        vertical-align: middle;\n",
       "    }\n",
       "\n",
       "    .dataframe tbody tr th {\n",
       "        vertical-align: top;\n",
       "    }\n",
       "\n",
       "    .dataframe thead th {\n",
       "        text-align: right;\n",
       "    }\n",
       "</style>\n",
       "<table border=\"1\" class=\"dataframe\">\n",
       "  <thead>\n",
       "    <tr style=\"text-align: right;\">\n",
       "      <th></th>\n",
       "      <th>Target_Code</th>\n",
       "      <th>Target_Churn</th>\n",
       "    </tr>\n",
       "  </thead>\n",
       "  <tbody>\n",
       "    <tr>\n",
       "      <td>0</td>\n",
       "      <td>0</td>\n",
       "      <td>No Churn</td>\n",
       "    </tr>\n",
       "    <tr>\n",
       "      <td>1</td>\n",
       "      <td>1</td>\n",
       "      <td>Churn</td>\n",
       "    </tr>\n",
       "    <tr>\n",
       "      <td>2</td>\n",
       "      <td>1</td>\n",
       "      <td>Churn</td>\n",
       "    </tr>\n",
       "    <tr>\n",
       "      <td>3</td>\n",
       "      <td>0</td>\n",
       "      <td>No Churn</td>\n",
       "    </tr>\n",
       "    <tr>\n",
       "      <td>4</td>\n",
       "      <td>0</td>\n",
       "      <td>No Churn</td>\n",
       "    </tr>\n",
       "    <tr>\n",
       "      <td>5</td>\n",
       "      <td>1</td>\n",
       "      <td>Churn</td>\n",
       "    </tr>\n",
       "    <tr>\n",
       "      <td>6</td>\n",
       "      <td>0</td>\n",
       "      <td>No Churn</td>\n",
       "    </tr>\n",
       "    <tr>\n",
       "      <td>7</td>\n",
       "      <td>1</td>\n",
       "      <td>Churn</td>\n",
       "    </tr>\n",
       "    <tr>\n",
       "      <td>8</td>\n",
       "      <td>0</td>\n",
       "      <td>No Churn</td>\n",
       "    </tr>\n",
       "    <tr>\n",
       "      <td>9</td>\n",
       "      <td>1</td>\n",
       "      <td>Churn</td>\n",
       "    </tr>\n",
       "  </tbody>\n",
       "</table>\n",
       "</div>"
      ],
      "text/plain": [
       "   Target_Code Target_Churn\n",
       "0            0     No Churn\n",
       "1            1        Churn\n",
       "2            1        Churn\n",
       "3            0     No Churn\n",
       "4            0     No Churn\n",
       "5            1        Churn\n",
       "6            0     No Churn\n",
       "7            1        Churn\n",
       "8            0     No Churn\n",
       "9            1        Churn"
      ]
     },
     "execution_count": 50,
     "metadata": {},
     "output_type": "execute_result"
    }
   ],
   "source": [
    "data[['Target_Code', 'Target_Churn']].head(10)"
   ]
  },
  {
   "cell_type": "code",
   "execution_count": 51,
   "metadata": {},
   "outputs": [],
   "source": [
    "target = 'Target_Code'\n",
    "X = data.drop(['Target_Code','Target_Churn'], axis=1)\n",
    "y=data[target]\n",
    "\n",
    "X_train, X_test, y_train, y_test = train_test_split(X,y,test_size=0.15, random_state=123, stratify=y)"
   ]
  },
  {
   "cell_type": "code",
   "execution_count": 52,
   "metadata": {},
   "outputs": [
    {
     "data": {
      "image/png": "[encoded data removed]",
      "text/plain": [
       "<Figure size 1080x288 with 1 Axes>"
      ]
     },
     "metadata": {
      "needs_background": "light"
     },
     "output_type": "display_data"
    }
   ],
   "source": [
    "forest=RandomForestClassifier(n_estimators=500,random_state=1)\n",
    "\n",
    "forest.fit(X_train,y_train)\n",
    "\n",
    "importances=forest.feature_importances_\n",
    "features = data.drop(['Target_Code','Target_Churn'],axis=1).columns\n",
    "\n",
    "indices = np.argsort(importances)[::-1]\n",
    "\n",
    "plt.figure(figsize=(15,4))\n",
    "plt.title(\"Feature importances using Random Forest\")\n",
    "plt.bar(range(X_train.shape[1]), importances[indices],\n",
    "       color=\"r\",  align=\"center\")\n",
    "plt.xticks(range(X_train.shape[1]), features[indices], rotation='vertical',fontsize=15)\n",
    "plt.xlim([-1, X_train.shape[1]])\n",
    "plt.show()"
   ]
  },
  {
   "cell_type": "markdown",
   "metadata": {},
   "source": [
    "## Logistic Regression"
   ]
  },
  {
   "cell_type": "code",
   "execution_count": 53,
   "metadata": {},
   "outputs": [
    {
     "name": "stdout",
     "output_type": "stream",
     "text": [
      "Optimization terminated successfully.\n",
      "         Current function value: 0.551146\n",
      "         Iterations 8\n"
     ]
    }
   ],
   "source": [
    "import statsmodels.api as sm\n",
    "top7_features = ['Avg_Days_Delinquent','Percent_Increase_MOM','Avg_Calls_Weekdays','Current_Bill_Amt','Avg_Calls','Complaint_Code','Account_Age']\n",
    "logReg = sm.Logit(y_train, X_train[top7_features])\n",
    "logistic_regression = logReg.fit()"
   ]
  },
  {
   "cell_type": "code",
   "execution_count": 54,
   "metadata": {},
   "outputs": [
    {
     "data": {
      "text/plain": [
       "Avg_Days_Delinquent     1.109226e-01\n",
       "Percent_Increase_MOM   -3.922044e-01\n",
       "Avg_Calls_Weekdays     -3.315366e-06\n",
       "Current_Bill_Amt       -2.385475e-07\n",
       "Avg_Calls              -1.817086e-06\n",
       "Complaint_Code         -2.083688e-01\n",
       "Account_Age            -4.794911e-02\n",
       "dtype: float64"
      ]
     },
     "execution_count": 54,
     "metadata": {},
     "output_type": "execute_result"
    }
   ],
   "source": [
    "logistic_regression.summary\n",
    "logistic_regression.params"
   ]
  },
  {
   "cell_type": "code",
   "execution_count": 55,
   "metadata": {},
   "outputs": [],
   "source": [
    "coef = logistic_regression.params\n",
    "def y (coef, Avg_Days_Delinquent,Percent_Increase_MOM,Avg_Calls_Weekdays,Current_Bill_Amt,Avg_Calls,Complaint_Code,Account_Age) : \n",
    "    final_coef=coef[0]*Avg_Days_Delinquent+ coef[1]*Percent_Increase_MOM+coef[2]*Avg_Calls_Weekdays+coef[3]*Current_Bill_Amt+ coef[4]*Avg_Calls+coef[5]*Complaint_Code+coef[6]*Account_Age\n",
    "    return final_coef"
   ]
  },
  {
   "cell_type": "code",
   "execution_count": 57,
   "metadata": {},
   "outputs": [
    {
     "data": {
      "text/plain": [
       "0.8193916658925811"
      ]
     },
     "execution_count": 57,
     "metadata": {},
     "output_type": "execute_result"
    }
   ],
   "source": [
    "# A employee with the following variables \n",
    "# Avg_Days_Delinquent    40\n",
    "# Percent_Increase_MOM   5\n",
    "# Avg_Calls_Weekdays     39000\n",
    "# Current_Bill_Amt       12000\n",
    "# Avg_Calls              9000\n",
    "# Complaint_Code         0\n",
    "# Account_Age            17\n",
    "# Have 82% of loosing probability\n",
    "\n",
    "y1 = y(coef, 40, 5, 39000,12000,9000,0,17)\n",
    "p = np.exp(y1) / (1+np.exp(y1))\n",
    "p"
   ]
  },
  {
   "cell_type": "code",
   "execution_count": 58,
   "metadata": {},
   "outputs": [],
   "source": [
    "from sklearn.linear_model import LogisticRegression"
   ]
  },
  {
   "cell_type": "code",
   "execution_count": 59,
   "metadata": {},
   "outputs": [],
   "source": [
    "clf_logistic = LogisticRegression(random_state=0, solver='lbfgs').fit(X_train[top7_features], y_train)"
   ]
  },
  {
   "cell_type": "code",
   "execution_count": 60,
   "metadata": {},
   "outputs": [
    {
     "data": {
      "text/plain": [
       "LogisticRegression(C=1.0, class_weight=None, dual=False, fit_intercept=True,\n",
       "          intercept_scaling=1, max_iter=100, multi_class='ovr', n_jobs=1,\n",
       "          penalty='l2', random_state=0, solver='lbfgs', tol=0.0001,\n",
       "          verbose=0, warm_start=False)"
      ]
     },
     "execution_count": 60,
     "metadata": {},
     "output_type": "execute_result"
    }
   ],
   "source": [
    "clf_logistic "
   ]
  },
  {
   "cell_type": "code",
   "execution_count": 61,
   "metadata": {},
   "outputs": [
    {
     "data": {
      "text/plain": [
       "0.7454031117397454"
      ]
     },
     "execution_count": 61,
     "metadata": {},
     "output_type": "execute_result"
    }
   ],
   "source": [
    "clf_logistic.score(X_test[top7_features], y_test)"
   ]
  },
  {
   "cell_type": "markdown",
   "metadata": {},
   "source": [
    "## SVM"
   ]
  },
  {
   "cell_type": "code",
   "execution_count": 62,
   "metadata": {},
   "outputs": [],
   "source": [
    "from sklearn import svm"
   ]
  },
  {
   "cell_type": "code",
   "execution_count": 63,
   "metadata": {},
   "outputs": [],
   "source": [
    "clf_svm=svm.SVC(kernel='linear', C=1)"
   ]
  },
  {
   "cell_type": "code",
   "execution_count": 64,
   "metadata": {},
   "outputs": [
    {
     "data": {
      "text/plain": [
       "SVC(C=1, cache_size=200, class_weight=None, coef0=0.0,\n",
       "  decision_function_shape='ovr', degree=3, gamma='auto', kernel='linear',\n",
       "  max_iter=-1, probability=False, random_state=None, shrinking=True,\n",
       "  tol=0.001, verbose=False)"
      ]
     },
     "execution_count": 64,
     "metadata": {},
     "output_type": "execute_result"
    }
   ],
   "source": [
    "clf_svm"
   ]
  },
  {
   "cell_type": "code",
   "execution_count": null,
   "metadata": {},
   "outputs": [],
   "source": [
    "clf_svm.fit(X_train[top7_features],y_train)"
   ]
  },
  {
   "cell_type": "code",
   "execution_count": 67,
   "metadata": {},
   "outputs": [
    {
     "data": {
      "text/plain": [
       "0.7652050919377652"
      ]
     },
     "execution_count": 67,
     "metadata": {},
     "output_type": "execute_result"
    }
   ],
   "source": [
    "clf_svm.score(X_test[top7_features], y_test)"
   ]
  },
  {
   "cell_type": "markdown",
   "metadata": {},
   "source": [
    "## Desicion trees"
   ]
  },
  {
   "cell_type": "code",
   "execution_count": 68,
   "metadata": {},
   "outputs": [],
   "source": [
    "from sklearn import tree"
   ]
  },
  {
   "cell_type": "code",
   "execution_count": 69,
   "metadata": {},
   "outputs": [],
   "source": [
    "clf_decision = tree.DecisionTreeClassifier()"
   ]
  },
  {
   "cell_type": "code",
   "execution_count": 70,
   "metadata": {},
   "outputs": [
    {
     "data": {
      "text/plain": [
       "DecisionTreeClassifier(class_weight=None, criterion='gini', max_depth=None,\n",
       "            max_features=None, max_leaf_nodes=None,\n",
       "            min_impurity_decrease=0.0, min_impurity_split=None,\n",
       "            min_samples_leaf=1, min_samples_split=2,\n",
       "            min_weight_fraction_leaf=0.0, presort=False, random_state=None,\n",
       "            splitter='best')"
      ]
     },
     "execution_count": 70,
     "metadata": {},
     "output_type": "execute_result"
    }
   ],
   "source": [
    "clf_decision"
   ]
  },
  {
   "cell_type": "code",
   "execution_count": 71,
   "metadata": {},
   "outputs": [
    {
     "data": {
      "text/plain": [
       "DecisionTreeClassifier(class_weight=None, criterion='gini', max_depth=None,\n",
       "            max_features=None, max_leaf_nodes=None,\n",
       "            min_impurity_decrease=0.0, min_impurity_split=None,\n",
       "            min_samples_leaf=1, min_samples_split=2,\n",
       "            min_weight_fraction_leaf=0.0, presort=False, random_state=None,\n",
       "            splitter='best')"
      ]
     },
     "execution_count": 71,
     "metadata": {},
     "output_type": "execute_result"
    }
   ],
   "source": [
    "clf_decision.fit(X_train[top7_features],y_train)"
   ]
  },
  {
   "cell_type": "code",
   "execution_count": 72,
   "metadata": {},
   "outputs": [
    {
     "data": {
      "text/plain": [
       "0.7609618104667609"
      ]
     },
     "execution_count": 72,
     "metadata": {},
     "output_type": "execute_result"
    }
   ],
   "source": [
    "clf_decision.score(X_test[top7_features], y_test)"
   ]
  },
  {
   "cell_type": "markdown",
   "metadata": {},
   "source": [
    "## Random Forest"
   ]
  },
  {
   "cell_type": "code",
   "execution_count": 73,
   "metadata": {},
   "outputs": [],
   "source": [
    "from sklearn.ensemble import RandomForestClassifier"
   ]
  },
  {
   "cell_type": "code",
   "execution_count": 74,
   "metadata": {},
   "outputs": [],
   "source": [
    "clf_random = RandomForestClassifier(n_estimators=20, max_depth=None,\n",
    "     min_samples_split=7, random_state=0)"
   ]
  },
  {
   "cell_type": "code",
   "execution_count": 75,
   "metadata": {},
   "outputs": [
    {
     "data": {
      "text/plain": [
       "RandomForestClassifier(bootstrap=True, class_weight=None, criterion='gini',\n",
       "            max_depth=None, max_features='auto', max_leaf_nodes=None,\n",
       "            min_impurity_decrease=0.0, min_impurity_split=None,\n",
       "            min_samples_leaf=1, min_samples_split=7,\n",
       "            min_weight_fraction_leaf=0.0, n_estimators=20, n_jobs=None,\n",
       "            oob_score=False, random_state=0, verbose=0, warm_start=False)"
      ]
     },
     "execution_count": 75,
     "metadata": {},
     "output_type": "execute_result"
    }
   ],
   "source": [
    "clf_random.fit(X_train[top7_features], y_train)"
   ]
  },
  {
   "cell_type": "code",
   "execution_count": 76,
   "metadata": {},
   "outputs": [
    {
     "data": {
      "text/plain": [
       "0.8104667609618105"
      ]
     },
     "execution_count": 76,
     "metadata": {},
     "output_type": "execute_result"
    }
   ],
   "source": [
    "clf_random.score(X_test[top7_features], y_test)"
   ]
  },
  {
   "cell_type": "markdown",
   "metadata": {},
   "source": [
    "## Random Forest with standarization"
   ]
  },
  {
   "cell_type": "code",
   "execution_count": 77,
   "metadata": {},
   "outputs": [],
   "source": [
    "# Avg_Days_Delinquent    \n",
    "# Percent_Increase_MOM   \n",
    "# Avg_Calls_Weekdays     \n",
    "# Current_Bill_Amt       \n",
    "# Avg_Calls              \n",
    "# Complaint_Code         \n",
    "# Account_Age"
   ]
  },
  {
   "cell_type": "code",
   "execution_count": 78,
   "metadata": {},
   "outputs": [],
   "source": [
    "from sklearn import preprocessing"
   ]
  },
  {
   "cell_type": "code",
   "execution_count": 81,
   "metadata": {},
   "outputs": [],
   "source": [
    "top5_features=['Avg_Calls_Weekdays', 'Current_Bill_Amt', 'Avg_Calls', 'Account_Age','Avg_Days_Delinquent']"
   ]
  },
  {
   "cell_type": "code",
   "execution_count": 82,
   "metadata": {},
   "outputs": [],
   "source": [
    "top2_features=['Percent_Increase_MOM','Complaint_Code']"
   ]
  },
  {
   "cell_type": "code",
   "execution_count": 83,
   "metadata": {},
   "outputs": [],
   "source": [
    "scaler = preprocessing.StandardScaler().fit(X_train[top5_features])"
   ]
  },
  {
   "cell_type": "code",
   "execution_count": 84,
   "metadata": {},
   "outputs": [],
   "source": [
    "X_train_scalar=pd.DataFrame(scaler.transform(X_train[top5_features]),columns = X_train[top5_features].columns)"
   ]
  },
  {
   "cell_type": "code",
   "execution_count": 85,
   "metadata": {},
   "outputs": [],
   "source": [
    "X_train_scalar_combined=pd.concat([X_train_scalar,  X_train[top2_features].reset_index(drop=True)], axis=1, sort=False)"
   ]
  },
  {
   "cell_type": "code",
   "execution_count": 86,
   "metadata": {},
   "outputs": [],
   "source": [
    "X_test_scalar=pd.DataFrame(scaler.transform(X_test[top5_features]),columns = X_test[top5_features].columns)"
   ]
  },
  {
   "cell_type": "code",
   "execution_count": 87,
   "metadata": {},
   "outputs": [],
   "source": [
    "X_test_scalar_combined=pd.concat([X_test_scalar,  X_test[top2_features].reset_index(drop=True)], axis=1, sort=False)"
   ]
  },
  {
   "cell_type": "code",
   "execution_count": 88,
   "metadata": {},
   "outputs": [
    {
     "data": {
      "text/plain": [
       "RandomForestClassifier(bootstrap=True, class_weight=None, criterion='gini',\n",
       "            max_depth=None, max_features='auto', max_leaf_nodes=None,\n",
       "            min_impurity_decrease=0.0, min_impurity_split=None,\n",
       "            min_samples_leaf=1, min_samples_split=7,\n",
       "            min_weight_fraction_leaf=0.0, n_estimators=20, n_jobs=None,\n",
       "            oob_score=False, random_state=0, verbose=0, warm_start=False)"
      ]
     },
     "execution_count": 88,
     "metadata": {},
     "output_type": "execute_result"
    }
   ],
   "source": [
    "clf_random.fit(X_train_scalar_combined, y_train)"
   ]
  },
  {
   "cell_type": "code",
   "execution_count": 89,
   "metadata": {},
   "outputs": [
    {
     "data": {
      "text/plain": [
       "0.8118811881188119"
      ]
     },
     "execution_count": 89,
     "metadata": {},
     "output_type": "execute_result"
    }
   ],
   "source": [
    "clf_random.score(X_test_scalar_combined, y_test)"
   ]
  },
  {
   "cell_type": "markdown",
   "metadata": {},
   "source": [
    "## Grid Search"
   ]
  },
  {
   "cell_type": "code",
   "execution_count": 90,
   "metadata": {},
   "outputs": [],
   "source": [
    "from sklearn.model_selection import GridSearchCV\n",
    "from sklearn.model_selection import StratifiedKFold"
   ]
  },
  {
   "cell_type": "code",
   "execution_count": 91,
   "metadata": {},
   "outputs": [],
   "source": [
    "parameters = [ {'min_samples_split': [4,5,7,9,10], 'n_estimators':[10,20,30,40,50,100,150,160,200,250,300],'max_depth': [2,5,7,10]}]"
   ]
  },
  {
   "cell_type": "code",
   "execution_count": 92,
   "metadata": {},
   "outputs": [
    {
     "data": {
      "text/plain": [
       "GridSearchCV(cv=StratifiedKFold(n_splits=10, random_state=None, shuffle=False),\n",
       "       error_score='raise-deprecating',\n",
       "       estimator=RandomForestClassifier(bootstrap=True, class_weight=None, criterion='gini',\n",
       "            max_depth=None, max_features='auto', max_leaf_nodes=None,\n",
       "            min_impurity_decrease=0.0, min_impurity_split=None,\n",
       "            min_samples_leaf=1, min_samples_split=2,\n",
       "            min_weight_fraction_leaf=0.0, n_estimators='warn', n_jobs=None,\n",
       "            oob_score=False, random_state=None, verbose=0,\n",
       "            warm_start=False),\n",
       "       fit_params=None, iid='warn', n_jobs=None,\n",
       "       param_grid=[{'min_samples_split': [4, 5, 7, 9, 10], 'n_estimators': [10, 20, 30, 40, 50, 100, 150, 160, 200, 250, 300], 'max_depth': [2, 5, 7, 10]}],\n",
       "       pre_dispatch='2*n_jobs', refit=True, return_train_score='warn',\n",
       "       scoring=None, verbose=0)"
      ]
     },
     "execution_count": 92,
     "metadata": {},
     "output_type": "execute_result"
    }
   ],
   "source": [
    "clf_random_grid = GridSearchCV(RandomForestClassifier(), parameters, cv = StratifiedKFold(n_splits = 10))\n",
    "clf_random_grid.fit(X_train_scalar_combined, y_train)"
   ]
  },
  {
   "cell_type": "code",
   "execution_count": 93,
   "metadata": {},
   "outputs": [
    {
     "name": "stdout",
     "output_type": "stream",
     "text": [
      "best score train: 0.8027993001749563\n",
      "best parameters train:  {'max_depth': 7, 'min_samples_split': 5, 'n_estimators': 150}\n"
     ]
    }
   ],
   "source": [
    "print('best score train:', clf_random_grid.best_score_)\n",
    "print('best parameters train: ', clf_random_grid.best_params_)"
   ]
  },
  {
   "cell_type": "code",
   "execution_count": 94,
   "metadata": {},
   "outputs": [
    {
     "data": {
      "text/plain": [
       "0.8246110325318247"
      ]
     },
     "execution_count": 94,
     "metadata": {},
     "output_type": "execute_result"
    }
   ],
   "source": [
    "clf_random_grid.score(X_test_scalar_combined, y_test)"
   ]
  },
  {
   "cell_type": "markdown",
   "metadata": {},
   "source": [
    "## Performance metrics"
   ]
  },
  {
   "cell_type": "code",
   "execution_count": 95,
   "metadata": {},
   "outputs": [],
   "source": [
    "from sklearn.metrics import classification_report,confusion_matrix,accuracy_score\n",
    "from sklearn import metrics"
   ]
  },
  {
   "cell_type": "code",
   "execution_count": 96,
   "metadata": {},
   "outputs": [],
   "source": [
    "clf_random_grid = RandomForestClassifier(n_estimators=100, max_depth=7,\n",
    "     min_samples_split=10, random_state=0)"
   ]
  },
  {
   "cell_type": "code",
   "execution_count": 97,
   "metadata": {},
   "outputs": [
    {
     "data": {
      "text/plain": [
       "RandomForestClassifier(bootstrap=True, class_weight=None, criterion='gini',\n",
       "            max_depth=7, max_features='auto', max_leaf_nodes=None,\n",
       "            min_impurity_decrease=0.0, min_impurity_split=None,\n",
       "            min_samples_leaf=1, min_samples_split=10,\n",
       "            min_weight_fraction_leaf=0.0, n_estimators=100, n_jobs=None,\n",
       "            oob_score=False, random_state=0, verbose=0, warm_start=False)"
      ]
     },
     "execution_count": 97,
     "metadata": {},
     "output_type": "execute_result"
    }
   ],
   "source": [
    "clf_random_grid.fit(X_train_scalar_combined, y_train)"
   ]
  },
  {
   "cell_type": "code",
   "execution_count": 98,
   "metadata": {},
   "outputs": [],
   "source": [
    "y_pred=clf_random_grid.predict(X_test_scalar_combined)"
   ]
  },
  {
   "cell_type": "code",
   "execution_count": 99,
   "metadata": {},
   "outputs": [
    {
     "name": "stdout",
     "output_type": "stream",
     "text": [
      "              precision    recall  f1-score   support\n",
      "\n",
      "    No Churn       0.85      0.80      0.82       364\n",
      "       Churn       0.80      0.85      0.82       343\n",
      "\n",
      "   micro avg       0.82      0.82      0.82       707\n",
      "   macro avg       0.82      0.82      0.82       707\n",
      "weighted avg       0.82      0.82      0.82       707\n",
      "\n"
     ]
    }
   ],
   "source": [
    "target_names = ['No Churn', 'Churn']\n",
    "print(classification_report(y_test, y_pred, target_names=target_names))"
   ]
  },
  {
   "cell_type": "code",
   "execution_count": 100,
   "metadata": {},
   "outputs": [],
   "source": [
    "cm = confusion_matrix(y_test, y_pred) \n",
    "\n",
    "cm_df = pd.DataFrame(cm,\n",
    "                     index = ['No Churn','Churn'], \n",
    "                     columns = ['No Churn','Churn'])"
   ]
  },
  {
   "cell_type": "code",
   "execution_count": 101,
   "metadata": {},
   "outputs": [
    {
     "data": {
      "image/png": "[encoded data removed]",
      "text/plain": [
       "<Figure size 576x432 with 2 Axes>"
      ]
     },
     "metadata": {
      "needs_background": "light"
     },
     "output_type": "display_data"
    }
   ],
   "source": [
    "plt.figure(figsize=(8,6))\n",
    "sns.heatmap(cm_df, annot=True,fmt='g',cmap='Blues')\n",
    "plt.title('Random Forest \\nAccuracy:{0:.3f}'.format(accuracy_score(y_test, y_pred)))\n",
    "plt.ylabel('True Values')\n",
    "plt.xlabel('Predicted Values')\n",
    "plt.show()"
   ]
  },
  {
   "cell_type": "code",
   "execution_count": 102,
   "metadata": {},
   "outputs": [],
   "source": [
    "from sklearn.metrics import roc_curve,auc"
   ]
  },
  {
   "cell_type": "code",
   "execution_count": 103,
   "metadata": {},
   "outputs": [
    {
     "data": {
      "image/png": "[encoded data removed]",
      "text/plain": [
       "<Figure size 432x288 with 1 Axes>"
      ]
     },
     "metadata": {
      "needs_background": "light"
     },
     "output_type": "display_data"
    }
   ],
   "source": [
    "models = [\n",
    "{\n",
    "    'label': 'Logistic Regression',\n",
    "    'model': clf_logistic,\n",
    "},\n",
    "{\n",
    "    'label': 'SVM',\n",
    "    'model': clf_svm,\n",
    "},\n",
    "{\n",
    "    'label': 'Decision Tree',\n",
    "    'model': clf_decision,\n",
    "},\n",
    "{\n",
    "    'label': 'Random Forest Grid Search',\n",
    "    'model': clf_random_grid,\n",
    "}\n",
    "]\n",
    "\n",
    "\n",
    "for m in models:\n",
    "    model = m['model'] \n",
    "    model.fit(X_train_scalar_combined, y_train) \n",
    "    y_pred=model.predict(X_test_scalar_combined) \n",
    "    fpr, tpr, thresholds = roc_curve(y_test, y_pred, pos_label=1)\n",
    "    roc_auc = metrics.auc(fpr, tpr)\n",
    "    plt.plot(fpr, tpr, label='%s AUC = %0.2f' % (m['label'], roc_auc))\n",
    "\n",
    "plt.plot([0, 1], [0, 1],'r--')\n",
    "plt.xlim([0.0, 1.0])\n",
    "plt.ylim([0.0, 1.05])\n",
    "plt.ylabel('Sensitivity(True Positive Rate)')\n",
    "plt.xlabel('1-Specificity(False Positive Rate)')\n",
    "plt.title('Receiver Operating Characteristic')\n",
    "plt.legend(loc=\"lower right\")\n",
    "plt.show()"
   ]
  }
 ],
 "metadata": {
  "kernelspec": {
   "display_name": "Python 3",
   "language": "python",
   "name": "python3"
  },
  "language_info": {
   "codemirror_mode": {
    "name": "ipython",
    "version": 3
   },
   "file_extension": ".py",
   "mimetype": "text/x-python",
   "name": "python",
   "nbconvert_exporter": "python",
   "pygments_lexer": "ipython3",
   "version": "3.7.6"
  }
 },
 "nbformat": 4,
 "nbformat_minor": 2
}
